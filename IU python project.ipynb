{
 "cells": [
  {
   "cell_type": "code",
   "execution_count": 1,
   "id": "545c72bf",
   "metadata": {},
   "outputs": [],
   "source": [
    "import numpy as np\n",
    "import pandas as pd\n",
    "from sklearn.ensemble import RandomForestRegressor \n",
    "from sklearn.model_selection import train_test_split\n",
    "from sklearn.metrics import mean_squared_error\n",
    "import pathlib\n",
    "import joblib \n",
    "from IPython.display import display\n",
    "import sqlite3\n",
    "import sqlalchemy\n",
    "import unittest\n",
    "import warnings as wrn\n",
    "#my  modules\n",
    "from test_functions import *\n",
    "wrn.filterwarnings('ignore')"
   ]
  },
  {
   "cell_type": "markdown",
   "id": "a53a197d",
   "metadata": {},
   "source": [
    "### Loading files"
   ]
  },
  {
   "cell_type": "code",
   "execution_count": 2,
   "id": "8743bc56",
   "metadata": {},
   "outputs": [
    {
     "data": {
      "text/html": [
       "<div>\n",
       "<style scoped>\n",
       "    .dataframe tbody tr th:only-of-type {\n",
       "        vertical-align: middle;\n",
       "    }\n",
       "\n",
       "    .dataframe tbody tr th {\n",
       "        vertical-align: top;\n",
       "    }\n",
       "\n",
       "    .dataframe thead th {\n",
       "        text-align: right;\n",
       "    }\n",
       "</style>\n",
       "<table border=\"1\" class=\"dataframe\">\n",
       "  <thead>\n",
       "    <tr style=\"text-align: right;\">\n",
       "      <th></th>\n",
       "      <th>x</th>\n",
       "      <th>y1</th>\n",
       "      <th>y2</th>\n",
       "      <th>y3</th>\n",
       "      <th>y4</th>\n",
       "    </tr>\n",
       "  </thead>\n",
       "  <tbody>\n",
       "    <tr>\n",
       "      <th>0</th>\n",
       "      <td>-20.0</td>\n",
       "      <td>-45.29234</td>\n",
       "      <td>-15999.796</td>\n",
       "      <td>99.52958</td>\n",
       "      <td>899.8275</td>\n",
       "    </tr>\n",
       "  </tbody>\n",
       "</table>\n",
       "</div>"
      ],
      "text/plain": [
       "      x        y1         y2        y3        y4\n",
       "0 -20.0 -45.29234 -15999.796  99.52958  899.8275"
      ]
     },
     "metadata": {},
     "output_type": "display_data"
    },
    {
     "data": {
      "text/html": [
       "<div>\n",
       "<style scoped>\n",
       "    .dataframe tbody tr th:only-of-type {\n",
       "        vertical-align: middle;\n",
       "    }\n",
       "\n",
       "    .dataframe tbody tr th {\n",
       "        vertical-align: top;\n",
       "    }\n",
       "\n",
       "    .dataframe thead th {\n",
       "        text-align: right;\n",
       "    }\n",
       "</style>\n",
       "<table border=\"1\" class=\"dataframe\">\n",
       "  <thead>\n",
       "    <tr style=\"text-align: right;\">\n",
       "      <th></th>\n",
       "      <th>x</th>\n",
       "      <th>y</th>\n",
       "    </tr>\n",
       "  </thead>\n",
       "  <tbody>\n",
       "    <tr>\n",
       "      <th>0</th>\n",
       "      <td>-13.1</td>\n",
       "      <td>-4494.98</td>\n",
       "    </tr>\n",
       "  </tbody>\n",
       "</table>\n",
       "</div>"
      ],
      "text/plain": [
       "      x        y\n",
       "0 -13.1 -4494.98"
      ]
     },
     "metadata": {},
     "output_type": "display_data"
    },
    {
     "data": {
      "text/html": [
       "<div>\n",
       "<style scoped>\n",
       "    .dataframe tbody tr th:only-of-type {\n",
       "        vertical-align: middle;\n",
       "    }\n",
       "\n",
       "    .dataframe tbody tr th {\n",
       "        vertical-align: top;\n",
       "    }\n",
       "\n",
       "    .dataframe thead th {\n",
       "        text-align: right;\n",
       "    }\n",
       "</style>\n",
       "<table border=\"1\" class=\"dataframe\">\n",
       "  <thead>\n",
       "    <tr style=\"text-align: right;\">\n",
       "      <th></th>\n",
       "      <th>x</th>\n",
       "      <th>y1</th>\n",
       "      <th>y2</th>\n",
       "      <th>y3</th>\n",
       "      <th>y4</th>\n",
       "      <th>y5</th>\n",
       "      <th>y6</th>\n",
       "      <th>y7</th>\n",
       "      <th>y8</th>\n",
       "      <th>y9</th>\n",
       "      <th>...</th>\n",
       "      <th>y41</th>\n",
       "      <th>y42</th>\n",
       "      <th>y43</th>\n",
       "      <th>y44</th>\n",
       "      <th>y45</th>\n",
       "      <th>y46</th>\n",
       "      <th>y47</th>\n",
       "      <th>y48</th>\n",
       "      <th>y49</th>\n",
       "      <th>y50</th>\n",
       "    </tr>\n",
       "  </thead>\n",
       "  <tbody>\n",
       "    <tr>\n",
       "      <th>0</th>\n",
       "      <td>-20.0</td>\n",
       "      <td>-0.912945</td>\n",
       "      <td>0.408082</td>\n",
       "      <td>9.087055</td>\n",
       "      <td>5.408082</td>\n",
       "      <td>-9.087055</td>\n",
       "      <td>0.912945</td>\n",
       "      <td>-0.839071</td>\n",
       "      <td>-0.850919</td>\n",
       "      <td>0.816164</td>\n",
       "      <td>...</td>\n",
       "      <td>-40.456474</td>\n",
       "      <td>40.20404</td>\n",
       "      <td>2.995732</td>\n",
       "      <td>-0.008333</td>\n",
       "      <td>12.995732</td>\n",
       "      <td>5.298317</td>\n",
       "      <td>-5.298317</td>\n",
       "      <td>-0.186278</td>\n",
       "      <td>0.912945</td>\n",
       "      <td>0.39685</td>\n",
       "    </tr>\n",
       "  </tbody>\n",
       "</table>\n",
       "<p>1 rows × 51 columns</p>\n",
       "</div>"
      ],
      "text/plain": [
       "      x        y1        y2        y3        y4        y5        y6        y7  \\\n",
       "0 -20.0 -0.912945  0.408082  9.087055  5.408082 -9.087055  0.912945 -0.839071   \n",
       "\n",
       "         y8        y9  ...        y41       y42       y43       y44  \\\n",
       "0 -0.850919  0.816164  ... -40.456474  40.20404  2.995732 -0.008333   \n",
       "\n",
       "         y45       y46       y47       y48       y49      y50  \n",
       "0  12.995732  5.298317 -5.298317 -0.186278  0.912945  0.39685  \n",
       "\n",
       "[1 rows x 51 columns]"
      ]
     },
     "metadata": {},
     "output_type": "display_data"
    }
   ],
   "source": [
    "display(train.head(1))\n",
    "display(testdata.head(1))\n",
    "display(ideal.head(1))"
   ]
  },
  {
   "cell_type": "code",
   "execution_count": 3,
   "id": "7193fe54",
   "metadata": {},
   "outputs": [
    {
     "data": {
      "text/html": [
       "<div>\n",
       "<style scoped>\n",
       "    .dataframe tbody tr th:only-of-type {\n",
       "        vertical-align: middle;\n",
       "    }\n",
       "\n",
       "    .dataframe tbody tr th {\n",
       "        vertical-align: top;\n",
       "    }\n",
       "\n",
       "    .dataframe thead th {\n",
       "        text-align: right;\n",
       "    }\n",
       "</style>\n",
       "<table border=\"1\" class=\"dataframe\">\n",
       "  <thead>\n",
       "    <tr style=\"text-align: right;\">\n",
       "      <th></th>\n",
       "      <th>x</th>\n",
       "      <th>y1</th>\n",
       "    </tr>\n",
       "  </thead>\n",
       "  <tbody>\n",
       "    <tr>\n",
       "      <th>0</th>\n",
       "      <td>-20.0</td>\n",
       "      <td>-45.292340</td>\n",
       "    </tr>\n",
       "    <tr>\n",
       "      <th>1</th>\n",
       "      <td>-19.9</td>\n",
       "      <td>-44.364960</td>\n",
       "    </tr>\n",
       "    <tr>\n",
       "      <th>2</th>\n",
       "      <td>-19.8</td>\n",
       "      <td>-44.565968</td>\n",
       "    </tr>\n",
       "    <tr>\n",
       "      <th>3</th>\n",
       "      <td>-19.7</td>\n",
       "      <td>-44.762450</td>\n",
       "    </tr>\n",
       "    <tr>\n",
       "      <th>4</th>\n",
       "      <td>-19.6</td>\n",
       "      <td>-44.188698</td>\n",
       "    </tr>\n",
       "    <tr>\n",
       "      <th>...</th>\n",
       "      <td>...</td>\n",
       "      <td>...</td>\n",
       "    </tr>\n",
       "    <tr>\n",
       "      <th>395</th>\n",
       "      <td>19.5</td>\n",
       "      <td>34.150510</td>\n",
       "    </tr>\n",
       "    <tr>\n",
       "      <th>396</th>\n",
       "      <td>19.6</td>\n",
       "      <td>33.875698</td>\n",
       "    </tr>\n",
       "    <tr>\n",
       "      <th>397</th>\n",
       "      <td>19.7</td>\n",
       "      <td>33.952816</td>\n",
       "    </tr>\n",
       "    <tr>\n",
       "      <th>398</th>\n",
       "      <td>19.8</td>\n",
       "      <td>34.517270</td>\n",
       "    </tr>\n",
       "    <tr>\n",
       "      <th>399</th>\n",
       "      <td>19.9</td>\n",
       "      <td>34.639030</td>\n",
       "    </tr>\n",
       "  </tbody>\n",
       "</table>\n",
       "<p>400 rows × 2 columns</p>\n",
       "</div>"
      ],
      "text/plain": [
       "        x         y1\n",
       "0   -20.0 -45.292340\n",
       "1   -19.9 -44.364960\n",
       "2   -19.8 -44.565968\n",
       "3   -19.7 -44.762450\n",
       "4   -19.6 -44.188698\n",
       "..    ...        ...\n",
       "395  19.5  34.150510\n",
       "396  19.6  33.875698\n",
       "397  19.7  33.952816\n",
       "398  19.8  34.517270\n",
       "399  19.9  34.639030\n",
       "\n",
       "[400 rows x 2 columns]"
      ]
     },
     "metadata": {},
     "output_type": "display_data"
    }
   ],
   "source": [
    "#different instances are now readable and can be visualized by Bokeh:\n",
    "display((Twodimentional_data_x_and_y('train', 'y1')).retrieve())"
   ]
  },
  {
   "cell_type": "code",
   "execution_count": 4,
   "id": "addbd7c5",
   "metadata": {},
   "outputs": [
    {
     "data": {
      "text/plain": [
       "None"
      ]
     },
     "metadata": {},
     "output_type": "display_data"
    }
   ],
   "source": [
    "display((Twodimentional_data_x_and_y('ideal', 'y1')).visualize())"
   ]
  },
  {
   "cell_type": "markdown",
   "id": "f6619709",
   "metadata": {},
   "source": [
    "### Detecting match"
   ]
  },
  {
   "cell_type": "code",
   "execution_count": 5,
   "id": "36862a3d",
   "metadata": {},
   "outputs": [
    {
     "name": "stdout",
     "output_type": "stream",
     "text": [
      "function ['y13'] best fit y1 with minimum value equal to 0.08520176895366426\n",
      "function ['y24'] best fit y2 with minimum value equal to 0.08362940238279103\n",
      "function ['y36'] best fit y3 with minimum value equal to 0.0889317509894231\n",
      "function ['y40'] best fit y4 with minimum value equal to 0.08749718703300567\n"
     ]
    }
   ],
   "source": [
    "# to calculate mean squared error between noisy y and ideal y \n",
    "# we must first ensure that they have the same x datapoints\n",
    "# then detect match\n",
    "if train.x.equals(ideal.x):\n",
    "    detect_match(train, ideal) #which equations fits for the 4 training functions most?\n",
    "else:\n",
    "    print('they dont have the same x values')"
   ]
  },
  {
   "cell_type": "code",
   "execution_count": 6,
   "id": "7a9949ec",
   "metadata": {
    "scrolled": false
   },
   "outputs": [
    {
     "data": {
      "image/png": "[encoded data removed]",
      "text/plain": [
       "<Figure size 720x432 with 1 Axes>"
      ]
     },
     "metadata": {
      "needs_background": "light"
     },
     "output_type": "display_data"
    }
   ],
   "source": [
    " # confirm match visually by matplotlib library\n",
    "# you can try different functions \n",
    "visualize_2functions(functiontrain='y1', functionideal='y13')"
   ]
  },
  {
   "cell_type": "code",
   "execution_count": 7,
   "id": "766119b7",
   "metadata": {},
   "outputs": [
    {
     "data": {
      "image/png": "[encoded data removed]",
      "text/plain": [
       "<Figure size 720x432 with 1 Axes>"
      ]
     },
     "metadata": {
      "needs_background": "light"
     },
     "output_type": "display_data"
    }
   ],
   "source": [
    "visualize_2functions(functiontrain='y2', functionideal='y24')"
   ]
  },
  {
   "cell_type": "code",
   "execution_count": 8,
   "id": "f4b3d169",
   "metadata": {},
   "outputs": [
    {
     "data": {
      "image/png": "[encoded data removed]",
      "text/plain": [
       "<Figure size 720x432 with 1 Axes>"
      ]
     },
     "metadata": {
      "needs_background": "light"
     },
     "output_type": "display_data"
    }
   ],
   "source": [
    "visualize_2functions(functiontrain='y3', functionideal='y36')"
   ]
  },
  {
   "cell_type": "code",
   "execution_count": 9,
   "id": "5b726243",
   "metadata": {},
   "outputs": [
    {
     "data": {
      "image/png": "[encoded data removed]",
      "text/plain": [
       "<Figure size 720x432 with 1 Axes>"
      ]
     },
     "metadata": {
      "needs_background": "light"
     },
     "output_type": "display_data"
    }
   ],
   "source": [
    "visualize_2functions(functiontrain='y4', functionideal='y40')"
   ]
  },
  {
   "cell_type": "code",
   "execution_count": 10,
   "id": "c378f080",
   "metadata": {
    "scrolled": true
   },
   "outputs": [],
   "source": [
    "# Creating machine learning models for the 4 functions by training on the ideal functions.\n",
    "columns=['x', 'y13', 'y24', 'y36', 'y40']\n",
    "\n",
    "# data=ideal[columns]\n",
    "x=ideal[['x']]\n",
    "for each in columns[1:]:\n",
    "    y=ideal[each]\n",
    "    x_train, x_test, y_train, y_test= train_test_split(x, y, test_size=0.2, shuffle=True)\n",
    "    model = RandomForestRegressor(n_estimators=100, random_state=42)\n",
    "    model.fit(x_train, y_train)\n",
    "    model_filename = path + each +\"_model.pkl\"\n",
    "    joblib.dump(model, model_filename)"
   ]
  },
  {
   "cell_type": "code",
   "execution_count": 11,
   "id": "de7c68d8",
   "metadata": {},
   "outputs": [],
   "source": [
    "# group matching functions in a dictionary together\n",
    "ideal_match_train_dictionary={'y13': 'y1',\n",
    "                              'y24': 'y2',\n",
    "                               'y36': 'y3',\n",
    "                               'y40': 'y4'}"
   ]
  },
  {
   "cell_type": "code",
   "execution_count": 12,
   "id": "0b2d508e",
   "metadata": {},
   "outputs": [
    {
     "name": "stdout",
     "output_type": "stream",
     "text": [
      "the largest deviation between y13 and y1 is 0.7375449999999866\n",
      "the largest deviation between y24 and y2 is 365.14833999999973\n",
      "the largest deviation between y36 and y3 is 0.9309499999999957\n",
      "the largest deviation between y40 and y4 is 5.969420999999784\n"
     ]
    },
    {
     "data": {
      "text/html": [
       "<div>\n",
       "<style scoped>\n",
       "    .dataframe tbody tr th:only-of-type {\n",
       "        vertical-align: middle;\n",
       "    }\n",
       "\n",
       "    .dataframe tbody tr th {\n",
       "        vertical-align: top;\n",
       "    }\n",
       "\n",
       "    .dataframe thead th {\n",
       "        text-align: right;\n",
       "    }\n",
       "</style>\n",
       "<table border=\"1\" class=\"dataframe\">\n",
       "  <thead>\n",
       "    <tr style=\"text-align: right;\">\n",
       "      <th></th>\n",
       "      <th>x</th>\n",
       "      <th>y</th>\n",
       "      <th>predicted_from_y13_model</th>\n",
       "      <th>deviation_from_y13_model</th>\n",
       "      <th>predicted_from_y24_model</th>\n",
       "      <th>deviation_from_y24_model</th>\n",
       "      <th>predicted_from_y36_model</th>\n",
       "      <th>deviation_from_y36_model</th>\n",
       "      <th>predicted_from_y40_model</th>\n",
       "      <th>deviation_from_y40_model</th>\n",
       "    </tr>\n",
       "  </thead>\n",
       "  <tbody>\n",
       "    <tr>\n",
       "      <th>0</th>\n",
       "      <td>-13.1</td>\n",
       "      <td>-4494.980000</td>\n",
       "      <td>-31.246</td>\n",
       "      <td>4463.734000</td>\n",
       "      <td>-4518.17494</td>\n",
       "      <td>23.194940</td>\n",
       "      <td>65.575</td>\n",
       "      <td>4560.555000</td>\n",
       "      <td>533.784287</td>\n",
       "      <td>5028.764287</td>\n",
       "    </tr>\n",
       "    <tr>\n",
       "      <th>1</th>\n",
       "      <td>3.4</td>\n",
       "      <td>78.957020</td>\n",
       "      <td>1.884</td>\n",
       "      <td>77.073020</td>\n",
       "      <td>80.55816</td>\n",
       "      <td>1.601140</td>\n",
       "      <td>17.070</td>\n",
       "      <td>61.887020</td>\n",
       "      <td>44.020924</td>\n",
       "      <td>34.936096</td>\n",
       "    </tr>\n",
       "    <tr>\n",
       "      <th>2</th>\n",
       "      <td>11.1</td>\n",
       "      <td>2.493696</td>\n",
       "      <td>17.152</td>\n",
       "      <td>14.658304</td>\n",
       "      <td>2766.17142</td>\n",
       "      <td>2763.677724</td>\n",
       "      <td>55.775</td>\n",
       "      <td>53.281304</td>\n",
       "      <td>1.154543</td>\n",
       "      <td>1.339153</td>\n",
       "    </tr>\n",
       "  </tbody>\n",
       "</table>\n",
       "</div>"
      ],
      "text/plain": [
       "      x            y  predicted_from_y13_model  deviation_from_y13_model  \\\n",
       "0 -13.1 -4494.980000                   -31.246               4463.734000   \n",
       "1   3.4    78.957020                     1.884                 77.073020   \n",
       "2  11.1     2.493696                    17.152                 14.658304   \n",
       "\n",
       "   predicted_from_y24_model  deviation_from_y24_model  \\\n",
       "0               -4518.17494                 23.194940   \n",
       "1                  80.55816                  1.601140   \n",
       "2                2766.17142               2763.677724   \n",
       "\n",
       "   predicted_from_y36_model  deviation_from_y36_model  \\\n",
       "0                    65.575               4560.555000   \n",
       "1                    17.070                 61.887020   \n",
       "2                    55.775                 53.281304   \n",
       "\n",
       "   predicted_from_y40_model  deviation_from_y40_model  \n",
       "0                533.784287               5028.764287  \n",
       "1                 44.020924                 34.936096  \n",
       "2                  1.154543                  1.339153  "
      ]
     },
     "metadata": {},
     "output_type": "display_data"
    },
    {
     "data": {
      "text/html": [
       "<div>\n",
       "<style scoped>\n",
       "    .dataframe tbody tr th:only-of-type {\n",
       "        vertical-align: middle;\n",
       "    }\n",
       "\n",
       "    .dataframe tbody tr th {\n",
       "        vertical-align: top;\n",
       "    }\n",
       "\n",
       "    .dataframe thead th {\n",
       "        text-align: right;\n",
       "    }\n",
       "</style>\n",
       "<table border=\"1\" class=\"dataframe\">\n",
       "  <thead>\n",
       "    <tr style=\"text-align: right;\">\n",
       "      <th></th>\n",
       "      <th>x</th>\n",
       "      <th>y1</th>\n",
       "      <th>y2</th>\n",
       "      <th>y3</th>\n",
       "      <th>y4</th>\n",
       "      <th>predicted_from_y13_model</th>\n",
       "      <th>deviation_from_y13_model</th>\n",
       "      <th>predicted_from_y24_model</th>\n",
       "      <th>deviation_from_y24_model</th>\n",
       "      <th>predicted_from_y36_model</th>\n",
       "      <th>deviation_from_y36_model</th>\n",
       "      <th>predicted_from_y40_model</th>\n",
       "      <th>deviation_from_y40_model</th>\n",
       "    </tr>\n",
       "  </thead>\n",
       "  <tbody>\n",
       "    <tr>\n",
       "      <th>0</th>\n",
       "      <td>-20.0</td>\n",
       "      <td>-45.292340</td>\n",
       "      <td>-15999.796</td>\n",
       "      <td>99.52958</td>\n",
       "      <td>899.82750</td>\n",
       "      <td>-44.588</td>\n",
       "      <td>0.704340</td>\n",
       "      <td>-15785.30534</td>\n",
       "      <td>214.49066</td>\n",
       "      <td>99.750</td>\n",
       "      <td>0.22042</td>\n",
       "      <td>896.257839</td>\n",
       "      <td>3.569661</td>\n",
       "    </tr>\n",
       "    <tr>\n",
       "      <th>1</th>\n",
       "      <td>-19.9</td>\n",
       "      <td>-44.364960</td>\n",
       "      <td>-15761.017</td>\n",
       "      <td>99.89567</td>\n",
       "      <td>893.42740</td>\n",
       "      <td>-44.588</td>\n",
       "      <td>0.223040</td>\n",
       "      <td>-15677.84444</td>\n",
       "      <td>83.17256</td>\n",
       "      <td>99.545</td>\n",
       "      <td>0.35067</td>\n",
       "      <td>894.008572</td>\n",
       "      <td>0.581172</td>\n",
       "    </tr>\n",
       "    <tr>\n",
       "      <th>2</th>\n",
       "      <td>-19.8</td>\n",
       "      <td>-44.565968</td>\n",
       "      <td>-15524.681</td>\n",
       "      <td>98.85578</td>\n",
       "      <td>887.16046</td>\n",
       "      <td>-44.588</td>\n",
       "      <td>0.022032</td>\n",
       "      <td>-15409.32848</td>\n",
       "      <td>115.35252</td>\n",
       "      <td>98.895</td>\n",
       "      <td>0.03922</td>\n",
       "      <td>885.898627</td>\n",
       "      <td>1.261833</td>\n",
       "    </tr>\n",
       "  </tbody>\n",
       "</table>\n",
       "</div>"
      ],
      "text/plain": [
       "      x         y1         y2        y3         y4  predicted_from_y13_model  \\\n",
       "0 -20.0 -45.292340 -15999.796  99.52958  899.82750                   -44.588   \n",
       "1 -19.9 -44.364960 -15761.017  99.89567  893.42740                   -44.588   \n",
       "2 -19.8 -44.565968 -15524.681  98.85578  887.16046                   -44.588   \n",
       "\n",
       "   deviation_from_y13_model  predicted_from_y24_model  \\\n",
       "0                  0.704340              -15785.30534   \n",
       "1                  0.223040              -15677.84444   \n",
       "2                  0.022032              -15409.32848   \n",
       "\n",
       "   deviation_from_y24_model  predicted_from_y36_model  \\\n",
       "0                 214.49066                    99.750   \n",
       "1                  83.17256                    99.545   \n",
       "2                 115.35252                    98.895   \n",
       "\n",
       "   deviation_from_y36_model  predicted_from_y40_model  \\\n",
       "0                   0.22042                896.257839   \n",
       "1                   0.35067                894.008572   \n",
       "2                   0.03922                885.898627   \n",
       "\n",
       "   deviation_from_y40_model  \n",
       "0                  3.569661  \n",
       "1                  0.581172  \n",
       "2                  1.261833  "
      ]
     },
     "metadata": {},
     "output_type": "display_data"
    }
   ],
   "source": [
    "#iterate through models in the directory, create predicted columns and deviation columns\n",
    "#in train and test data :\n",
    "\n",
    "largest_deviation_dictionary={}\n",
    "for eachmodel in pathlib.Path(path).iterdir():\n",
    "    if eachmodel.name[-3:]=='pkl':           \n",
    "        model_name=eachmodel.name[-13:-10]   #like y13\n",
    "        loaded_model= joblib.load(eachmodel)\n",
    "        #create testdata column with predicted value from the model\n",
    "        testdata['predicted_from_'+model_name+'_model']=loaded_model.predict(testdata[['x']])\n",
    "        #create another column with calculated deviation (Eucladian) distance or (sqroot).\n",
    "        testdata['deviation_from_'+model_name+'_model']=deviation(testdata['predicted_from_'+model_name+'_model'],testdata['y'])\n",
    "\n",
    "        #create train column with predicted value from the model\n",
    "        train['predicted_from_'+model_name+'_model']=loaded_model.predict(train[['x']])\n",
    "        #create another column with calculated deviation (Eucladian) distance or (sqroot).\n",
    "        train['deviation_from_'+model_name+'_model']=deviation(train['predicted_from_'+model_name+'_model'], train[ideal_match_train_dictionary[model_name]])\n",
    "\n",
    "        largest_deviation_dictionary[model_name]=train['deviation_from_'+model_name+'_model'].max()\n",
    "        print(f\"the largest deviation between {model_name} and {ideal_match_train_dictionary[model_name]} is {train['deviation_from_'+model_name+'_model'].max()}\")\n",
    "        \n",
    "        \n",
    "display(testdata.head(3))\n",
    "display(train.head(3))"
   ]
  },
  {
   "cell_type": "code",
   "execution_count": 13,
   "id": "58be9b50",
   "metadata": {
    "scrolled": true
   },
   "outputs": [
    {
     "data": {
      "text/plain": [
       "{'y13': 0.7375449999999866,\n",
       " 'y24': 365.14833999999973,\n",
       " 'y36': 0.9309499999999957,\n",
       " 'y40': 5.969420999999784}"
      ]
     },
     "execution_count": 13,
     "metadata": {},
     "output_type": "execute_result"
    }
   ],
   "source": [
    "largest_deviation_dictionary"
   ]
  },
  {
   "cell_type": "code",
   "execution_count": 14,
   "id": "5f45e79f",
   "metadata": {
    "scrolled": true
   },
   "outputs": [
    {
     "data": {
      "image/png": "[encoded data removed]",
      "text/plain": [
       "<Figure size 432x288 with 1 Axes>"
      ]
     },
     "metadata": {
      "needs_background": "light"
     },
     "output_type": "display_data"
    }
   ],
   "source": [
    "    \"\"\"visualize deviation value against sorted data point, is it smooth increase or\n",
    "    there may has an abrupt change? \n",
    "    the first argument takes string of model name, the second takes list which represents maximum limits of x and y\"\"\"\n",
    "visualize_deviation('y13', [65, 1])"
   ]
  },
  {
   "cell_type": "markdown",
   "id": "aafff3aa",
   "metadata": {},
   "source": [
    "### Assigning each point to its corresponding function"
   ]
  },
  {
   "cell_type": "code",
   "execution_count": 15,
   "id": "e56edc52",
   "metadata": {},
   "outputs": [
    {
     "name": "stdout",
     "output_type": "stream",
     "text": [
      "(100, 11)\n",
      "(25, 11)\n"
     ]
    },
    {
     "data": {
      "text/plain": [
       "y40    25\n",
       "Name: function, dtype: int64"
      ]
     },
     "execution_count": 15,
     "metadata": {},
     "output_type": "execute_result"
    }
   ],
   "source": [
    "testdata['function']= np.nan #adding empty column\n",
    "\n",
    "# applying requisted criterion for mapping points.\n",
    "print(testdata.shape)\n",
    "modified=testdata[testdata['deviation_from_y40_model'] <= largest_deviation_dictionary['y40'] ]\n",
    "print(modified.shape)\n",
    "# map the points to its function\n",
    "testdata.iloc[modified.index, -1]='y40'\n",
    "testdata.function.value_counts()"
   ]
  },
  {
   "cell_type": "code",
   "execution_count": 16,
   "id": "abfae919",
   "metadata": {},
   "outputs": [
    {
     "data": {
      "text/plain": [
       "y24    32\n",
       "y36    14\n",
       "y40    13\n",
       "y13     9\n",
       "Name: function, dtype: int64"
      ]
     },
     "execution_count": 16,
     "metadata": {},
     "output_type": "execute_result"
    }
   ],
   "source": [
    "modified=testdata[testdata['deviation_from_y24_model'] <= largest_deviation_dictionary['y24'] ]\n",
    "testdata.iloc[modified.index, -1]='y24'\n",
    "modified=testdata[testdata['deviation_from_y36_model'] <= largest_deviation_dictionary['y36'] ]\n",
    "testdata.iloc[modified.index, -1]='y36'\n",
    "modified=testdata[testdata['deviation_from_y13_model'] <= largest_deviation_dictionary['y13'] ]\n",
    "testdata.iloc[modified.index, -1]='y13'\n",
    "testdata.function.value_counts()"
   ]
  },
  {
   "cell_type": "code",
   "execution_count": 17,
   "id": "e2f79acf",
   "metadata": {},
   "outputs": [],
   "source": [
    "\n"
   ]
  },
  {
   "cell_type": "code",
   "execution_count": 18,
   "id": "70577c2a",
   "metadata": {},
   "outputs": [
    {
     "data": {
      "image/png": "[encoded data removed]",
      "text/plain": [
       "<Figure size 432x288 with 1 Axes>"
      ]
     },
     "metadata": {
      "needs_background": "light"
     },
     "output_type": "display_data"
    }
   ],
   "source": [
    "#visualize each group of points separately \n",
    "visualize_test_points_to_function('y13')"
   ]
  },
  {
   "cell_type": "code",
   "execution_count": 19,
   "id": "505fd032",
   "metadata": {},
   "outputs": [
    {
     "data": {
      "image/png": "[encoded data removed]",
      "text/plain": [
       "<Figure size 432x288 with 1 Axes>"
      ]
     },
     "metadata": {
      "needs_background": "light"
     },
     "output_type": "display_data"
    }
   ],
   "source": [
    "visualize_test_points_to_function('y24')"
   ]
  },
  {
   "cell_type": "code",
   "execution_count": 20,
   "id": "fa0f91f5",
   "metadata": {},
   "outputs": [
    {
     "data": {
      "image/png": "[encoded data removed]",
      "text/plain": [
       "<Figure size 432x288 with 1 Axes>"
      ]
     },
     "metadata": {
      "needs_background": "light"
     },
     "output_type": "display_data"
    }
   ],
   "source": [
    "visualize_test_points_to_function('y36')"
   ]
  },
  {
   "cell_type": "code",
   "execution_count": 21,
   "id": "cde29b90",
   "metadata": {},
   "outputs": [
    {
     "data": {
      "image/png": "[encoded data removed]",
      "text/plain": [
       "<Figure size 432x288 with 1 Axes>"
      ]
     },
     "metadata": {
      "needs_background": "light"
     },
     "output_type": "display_data"
    }
   ],
   "source": [
    "visualize_test_points_to_function('y40')"
   ]
  },
  {
   "cell_type": "code",
   "execution_count": 22,
   "id": "61ac8cf9",
   "metadata": {},
   "outputs": [
    {
     "name": "stdout",
     "output_type": "stream",
     "text": [
      "There are 32 points from 100 doesnot mapped to any function, we can consider them as outliers or noise.\n"
     ]
    }
   ],
   "source": [
    "print(f'There are {testdata.function.isnull().sum()} points from 100 doesnot mapped to any function, we can consider them as outliers or noise.')\n"
   ]
  },
  {
   "cell_type": "code",
   "execution_count": 23,
   "id": "06ddcf7d",
   "metadata": {},
   "outputs": [
    {
     "data": {
      "image/png": "[encoded data removed]",
      "text/plain": [
       "<Figure size 432x288 with 1 Axes>"
      ]
     },
     "metadata": {
      "needs_background": "light"
     },
     "output_type": "display_data"
    }
   ],
   "source": [
    "visualize_all_test_points_together('functions', testdata)"
   ]
  },
  {
   "cell_type": "code",
   "execution_count": 24,
   "id": "24b9df44",
   "metadata": {},
   "outputs": [
    {
     "data": {
      "text/html": [
       "<div>\n",
       "<style scoped>\n",
       "    .dataframe tbody tr th:only-of-type {\n",
       "        vertical-align: middle;\n",
       "    }\n",
       "\n",
       "    .dataframe tbody tr th {\n",
       "        vertical-align: top;\n",
       "    }\n",
       "\n",
       "    .dataframe thead th {\n",
       "        text-align: right;\n",
       "    }\n",
       "</style>\n",
       "<table border=\"1\" class=\"dataframe\">\n",
       "  <thead>\n",
       "    <tr style=\"text-align: right;\">\n",
       "      <th></th>\n",
       "      <th>x</th>\n",
       "      <th>y</th>\n",
       "      <th>Delta Y (test func)</th>\n",
       "      <th>function</th>\n",
       "    </tr>\n",
       "  </thead>\n",
       "  <tbody>\n",
       "    <tr>\n",
       "      <th>0</th>\n",
       "      <td>-13.1</td>\n",
       "      <td>-4494.980000</td>\n",
       "      <td>23.194940</td>\n",
       "      <td>y24</td>\n",
       "    </tr>\n",
       "    <tr>\n",
       "      <th>1</th>\n",
       "      <td>3.4</td>\n",
       "      <td>78.957020</td>\n",
       "      <td>1.601140</td>\n",
       "      <td>y24</td>\n",
       "    </tr>\n",
       "    <tr>\n",
       "      <th>2</th>\n",
       "      <td>11.1</td>\n",
       "      <td>2.493696</td>\n",
       "      <td>1.339153</td>\n",
       "      <td>y40</td>\n",
       "    </tr>\n",
       "    <tr>\n",
       "      <th>3</th>\n",
       "      <td>1.9</td>\n",
       "      <td>-7730.091300</td>\n",
       "      <td>NaN</td>\n",
       "      <td>NaN</td>\n",
       "    </tr>\n",
       "    <tr>\n",
       "      <th>4</th>\n",
       "      <td>-14.0</td>\n",
       "      <td>13840.699000</td>\n",
       "      <td>NaN</td>\n",
       "      <td>NaN</td>\n",
       "    </tr>\n",
       "  </tbody>\n",
       "</table>\n",
       "</div>"
      ],
      "text/plain": [
       "      x             y  Delta Y (test func) function\n",
       "0 -13.1  -4494.980000            23.194940      y24\n",
       "1   3.4     78.957020             1.601140      y24\n",
       "2  11.1      2.493696             1.339153      y40\n",
       "3   1.9  -7730.091300                  NaN      NaN\n",
       "4 -14.0  13840.699000                  NaN      NaN"
      ]
     },
     "execution_count": 24,
     "metadata": {},
     "output_type": "execute_result"
    }
   ],
   "source": [
    "# reformating the test data with mapping and y-deviation\n",
    "testdata.loc[testdata.function=='y13', 'Delta Y (test func)']=testdata.deviation_from_y13_model\n",
    "testdata.loc[testdata.function=='y24', 'Delta Y (test func)']=testdata.deviation_from_y24_model\n",
    "testdata.loc[testdata.function=='y36', 'Delta Y (test func)']=testdata.deviation_from_y36_model\n",
    "testdata.loc[testdata.function=='y40', 'Delta Y (test func)']=testdata.deviation_from_y40_model\n",
    "\n",
    "result=testdata[['x', 'y', 'Delta Y (test func)', 'function']]\n",
    "result.rename({'x': 'X (test func)',\n",
    "                'y': 'Y (test func)',\n",
    "                'function': 'No. of ideal func' })\n",
    "result.head(5)"
   ]
  },
  {
   "cell_type": "markdown",
   "id": "ea383606",
   "metadata": {},
   "source": [
    "### Load into database "
   ]
  },
  {
   "cell_type": "code",
   "execution_count": 36,
   "id": "0361e8a5",
   "metadata": {},
   "outputs": [],
   "source": [
    "# loading with standard exception handling\n",
    "try:\n",
    "    ideal = pd.read_csv('C:/Users/amrma/Downloads/iu/python/dataset/raw/ideal.csv')\n",
    "    train = pd.read_csv('C:/Users/amrma/Downloads/iu/python/dataset/raw/train.csv')\n",
    "except:\n",
    "    print('review location')\n"
   ]
  },
  {
   "cell_type": "code",
   "execution_count": 25,
   "id": "c786162a",
   "metadata": {},
   "outputs": [],
   "source": [
    "#renaming columns of tain, ideal before uploading:\n",
    "l=[]\n",
    "for each in train.columns[1:]:\n",
    "    each=each.capitalize() +'(training func)'\n",
    "    l.append(each)\n",
    "train.columns=['X']+l\n",
    "\n",
    "id_columns=[]\n",
    "for each_id in ideal.columns[1:]:\n",
    "    each_id=each_id.capitalize() +' (ideal func)'\n",
    "    id_columns.append(each_id)\n",
    "ideal.columns=['X']+id_columns\n"
   ]
  },
  {
   "cell_type": "code",
   "execution_count": 34,
   "id": "13f61a75",
   "metadata": {},
   "outputs": [],
   "source": [
    "db_iu='C:/Users/amrma/Downloads/iu/python/dataset/raw/my_assignment.db'\n",
    "conn = sqlite3.connect(db_iu)\n",
    "\n",
    "train.to_sql('train' , conn, index=False, if_exists='replace')\n",
    "ideal.to_sql('ideal' , conn, index=False, if_exists='replace')\n",
    "\n",
    "# The third table (result) can be directly loaded all at once by the same way\n",
    "# but lets load each row one by one separately to satisfy the assignment requirement\n",
    "\n",
    "test=pd.read_csv('C:/Users/amrma/Downloads/iu/python/dataset/raw/test.csv')\n",
    "test.columns=['X (test func)', 'Y (test func)']\n",
    "#load models\n",
    "y13model= joblib.load('C:/Users/amrma/Downloads/iu/python/dataset/raw/y13_model.pkl')\n",
    "y40model= joblib.load('C:/Users/amrma/Downloads/iu/python/dataset/raw/y40_model.pkl')\n",
    "y36model= joblib.load('C:/Users/amrma/Downloads/iu/python/dataset/raw/y36_model.pkl')\n",
    "y24model= joblib.load('C:/Users/amrma/Downloads/iu/python/dataset/raw/y24_model.pkl')\n",
    "\n",
    "\n",
    "def row_to_be_uploaded(func):\n",
    "    \"\"\"func means the name of function like y13, written as string\"\"\"\n",
    "    tobeuploaded=row.copy()   #preparing to be uploaded\n",
    "    tobeuploaded['Delta Y (test func)'] =tobeuploaded.loc[:,'deviation_from_'+func+'_model']\n",
    "    tobeuploaded['No. of ideal func'] =func\n",
    "    tobeuploaded=tobeuploaded[['X (test func)','Y (test func)','Delta Y (test func)','No. of ideal func']]\n",
    "    #uploading\n",
    "    tobeuploaded.to_sql('result', conn, if_exists='append', index=False)\n",
    "        \n",
    "#iterate through all rows one by one:\n",
    "for rowindex in range(test.shape[0]):\n",
    "    row=test[rowindex:rowindex+1].copy()\n",
    "    \n",
    "    row['predicted_from_y40_model']=y40model.predict(row[['X (test func)']])\n",
    "    row['deviation_from_y40_model']=np.sqrt((row['predicted_from_y40_model']-row['Y (test func)'])**2)\n",
    "    if row.loc[:,'deviation_from_y40_model'][rowindex] < largest_deviation_dictionary['y40']: #if matched the criteria required\n",
    "        row_to_be_uploaded('y40')\n",
    "    \n",
    "    row['predicted_from_y24_model']=y24model.predict(row[['X (test func)']])\n",
    "    row['deviation_from_y24_model']=np.sqrt((row['predicted_from_y24_model']-row['Y (test func)'])**2)\n",
    "    if row.loc[:,'deviation_from_y24_model'][rowindex] < largest_deviation_dictionary['y24']: #if matched the criteria required\n",
    "        row_to_be_uploaded('y24')\n",
    "        \n",
    "    row['predicted_from_y36_model']=y36model.predict(row[['X (test func)']])\n",
    "    row['deviation_from_y36_model']=np.sqrt((row['predicted_from_y36_model']-row['Y (test func)'])**2)\n",
    "    if row.loc[:,'deviation_from_y36_model'][rowindex] < largest_deviation_dictionary['y36']: #if matched the criteria required\n",
    "        row_to_be_uploaded('y36')\n",
    "        \n",
    "    row['predicted_from_y13_model']=y13model.predict(row[['X (test func)']])\n",
    "    row['deviation_from_y13_model']=np.sqrt((row['predicted_from_y13_model']-row['Y (test func)'])**2)\n",
    "    if row.loc[:,'deviation_from_y13_model'][rowindex] < largest_deviation_dictionary['y13']: #if matched the criteria required\n",
    "        row_to_be_uploaded('y13')\n",
    "conn.close()"
   ]
  },
  {
   "cell_type": "markdown",
   "id": "de53d4e5",
   "metadata": {},
   "source": [
    "### Github code"
   ]
  },
  {
   "cell_type": "markdown",
   "id": "6d4b043d",
   "metadata": {},
   "source": [
    "The project has a Branch called develop Write the Git-commands necessary to clone the branch."
   ]
  },
  {
   "cell_type": "code",
   "execution_count": 27,
   "id": "eba6e3bd",
   "metadata": {},
   "outputs": [
    {
     "ename": "SyntaxError",
     "evalue": "invalid syntax (<ipython-input-27-16c6eb529dde>, line 2)",
     "output_type": "error",
     "traceback": [
      "\u001b[1;36m  File \u001b[1;32m\"<ipython-input-27-16c6eb529dde>\"\u001b[1;36m, line \u001b[1;32m2\u001b[0m\n\u001b[1;33m    git clone -b develop https://github.com/amrabuzeid87/iuproject.git\u001b[0m\n\u001b[1;37m        ^\u001b[0m\n\u001b[1;31mSyntaxError\u001b[0m\u001b[1;31m:\u001b[0m invalid syntax\n"
     ]
    }
   ],
   "source": [
    "\n",
    "# we open the terminal.and write\n",
    "git clone -b develop https://github.com/amrabuzeid87/iuproject.git\n",
    "    #where amrabuzeid87 is my github username and iuproject is the GitHub repository\n",
    "#     this will take a copy of this branch in my computer."
   ]
  },
  {
   "cell_type": "markdown",
   "id": "12de27f0",
   "metadata": {},
   "source": [
    "Imagine you have done with a new function, Write all necessary Git-commands to introduce this project to the team’s develop Branch"
   ]
  },
  {
   "cell_type": "code",
   "execution_count": null,
   "id": "718d9d7e",
   "metadata": {},
   "outputs": [],
   "source": [
    "#first I can save the edition in the staging area.\n",
    "git add .\n",
    "git commit -m \"initial commit\"     #or the commit message"
   ]
  },
  {
   "cell_type": "code",
   "execution_count": null,
   "id": "b84a76ff",
   "metadata": {},
   "outputs": [],
   "source": [
    "#the I push the changes from my local or staging area to the repository online (in the defined branch 'develop'). \n",
    "git push origin develop\n"
   ]
  },
  {
   "cell_type": "markdown",
   "id": "30c7d231",
   "metadata": {},
   "source": [
    "After that, when I visit the repository, I will see an option to pull request. I will choose the 'develop' branch, \n",
    "where I want to merge my changes with. review and compare my changes, and finally submit the pull request. The team \n",
    "supervisor will review my pull request, if my changes approved, he will merge the pull request to the develop branch.\n"
   ]
  },
  {
   "cell_type": "code",
   "execution_count": 28,
   "id": "c79498a4",
   "metadata": {},
   "outputs": [
    {
     "data": {
      "text/html": [
       "<style>.container { width:100% !important; }</style>"
      ],
      "text/plain": [
       "<IPython.core.display.HTML object>"
      ]
     },
     "execution_count": 28,
     "metadata": {},
     "output_type": "execute_result"
    }
   ],
   "source": [
    "from IPython.core.display import HTML\n",
    "HTML(\"<style>.container { width:100% !important; }</style>\")"
   ]
  },
  {
   "cell_type": "code",
   "execution_count": null,
   "id": "e81ff815",
   "metadata": {},
   "outputs": [],
   "source": []
  },
  {
   "cell_type": "code",
   "execution_count": null,
   "id": "c2a25e49",
   "metadata": {},
   "outputs": [],
   "source": []
  }
 ],
 "metadata": {
  "kernelspec": {
   "display_name": "Python 3",
   "language": "python",
   "name": "python3"
  },
  "language_info": {
   "codemirror_mode": {
    "name": "ipython",
    "version": 3
   },
   "file_extension": ".py",
   "mimetype": "text/x-python",
   "name": "python",
   "nbconvert_exporter": "python",
   "pygments_lexer": "ipython3",
   "version": "3.8.8"
  }
 },
 "nbformat": 4,
 "nbformat_minor": 5
}
